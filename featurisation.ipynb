{
 "cells": [
  {
   "cell_type": "code",
   "execution_count": 1,
   "id": "cellular-robert",
   "metadata": {},
   "outputs": [],
   "source": [
    "import warnings\n",
    "warnings.filterwarnings(\"ignore\")\n",
    "import os\n",
    "import csv\n",
    "import pandas as pd\n",
    "import datetime\n",
    "import time\n",
    "import numpy as np\n",
    "import matplotlib\n",
    "import matplotlib.pylab as plt\n",
    "import seaborn as sns\n",
    "from matplotlib import rcParams\n",
    "from sklearn.cluster import MiniBatchKMeans,KMeans\n",
    "import math\n",
    "import pickle\n",
    "import os\n",
    "import xgboost as xgb\n",
    "\n",
    "\n",
    "import warnings\n",
    "import networkx as nx\n",
    "import pdb\n",
    "import pickle\n",
    "from pandas import HDFStore,DataFrame\n",
    "from pandas import read_hdf\n",
    "from scipy.sparse.linalg import svds,eigs\n",
    "import gc"
   ]
  },
  {
   "cell_type": "markdown",
   "id": "confidential-tracker",
   "metadata": {},
   "source": [
    "# 1. Reading Data"
   ]
  },
  {
   "cell_type": "code",
   "execution_count": 2,
   "id": "liked-rachel",
   "metadata": {},
   "outputs": [
    {
     "name": "stdout",
     "output_type": "stream",
     "text": [
      "Name: \n",
      "Type: DiGraph\n",
      "Number of nodes: 1780722\n",
      "Number of edges: 7550015\n",
      "Average in degree:   4.2399\n",
      "Average out degree:   4.2399\n"
     ]
    }
   ],
   "source": [
    "if os.path.isfile('data/after_eda/train_pos_after_eda.csv'):\n",
    "    train_graph=nx.read_edgelist('data/after_eda/train_pos_after_eda.csv',delimiter=',',create_using=nx.DiGraph(),nodetype=int)\n",
    "    print(nx.info(train_graph))"
   ]
  },
  {
   "cell_type": "markdown",
   "id": "straight-northeast",
   "metadata": {},
   "source": [
    "# 2.Similarity measures"
   ]
  },
  {
   "cell_type": "markdown",
   "id": "enhanced-priest",
   "metadata": {},
   "source": [
    "# 2.1 Jaccard Distance\n",
    "\n"
   ]
  },
  {
   "cell_type": "code",
   "execution_count": 3,
   "id": "complex-globe",
   "metadata": {},
   "outputs": [],
   "source": [
    "#for followees\n",
    "def jaccard_for_followees(a,b):\n",
    "    try:\n",
    "        if len(set(train_graph.successors(a)))==0 | len(set(train_graph.successors(b)))==0:\n",
    "            return 0\n",
    "        sim=(len(set(train_graph.successors(a)).intersection(set(train_graph.successors(b)))))/\\\n",
    "                                  (len(set(train_graph.successors(a)).union(set(train_graph.successors(b)))))\n",
    "    except:\n",
    "        return 0;\n",
    "    return sim"
   ]
  },
  {
   "cell_type": "code",
   "execution_count": 4,
   "id": "exposed-bunch",
   "metadata": {},
   "outputs": [
    {
     "name": "stdout",
     "output_type": "stream",
     "text": [
      "0.0\n"
     ]
    }
   ],
   "source": [
    "print(jaccard_for_followees(273084,1505602))"
   ]
  },
  {
   "cell_type": "code",
   "execution_count": 5,
   "id": "sorted-section",
   "metadata": {},
   "outputs": [],
   "source": [
    "#for followers\n",
    "def jaccard_for_followers(a,b):\n",
    "    try:\n",
    "        if len(set(train_graph.predecessors(a)))==0 | len(set(train_graph.predecessors(b)))==0:\n",
    "            return 0\n",
    "        sim=(len(set(train_graph.predecessors(a)).intersection(set(train_graph.predecessors(b)))))/\\\n",
    "                                  (len(set(train_graph.predecessors(a)).union(set(train_graph.predecessors(b)))))\n",
    "    except:\n",
    "        return 0;\n",
    "    return sim"
   ]
  },
  {
   "cell_type": "code",
   "execution_count": 6,
   "id": "described-delicious",
   "metadata": {},
   "outputs": [
    {
     "name": "stdout",
     "output_type": "stream",
     "text": [
      "0.0\n"
     ]
    }
   ],
   "source": [
    "print(jaccard_for_followers(273084,470294))"
   ]
  },
  {
   "cell_type": "markdown",
   "id": "choice-upset",
   "metadata": {},
   "source": [
    "# 2.2 Cosine Distance (Otsuka-Ochiai coefficient)"
   ]
  },
  {
   "cell_type": "code",
   "execution_count": 7,
   "id": "tested-license",
   "metadata": {},
   "outputs": [],
   "source": [
    "#for followees\n",
    "def cosine_for_followees(a,b):\n",
    "    try:\n",
    "        if len(set(train_graph.successors(a)))==0 | len(set(train_graph.successors(b)))==0:\n",
    "            return 0\n",
    "        sim=(len(set(train_graph.successors(a)).intersection(set(train_graph.successors(b)))))/\\\n",
    "                                  (math.sqrt(len(set(train_graph.successors(a))*len(set(train_graph.successors(b))))))\n",
    "    except:\n",
    "        return 0;\n",
    "    return sim"
   ]
  },
  {
   "cell_type": "code",
   "execution_count": 8,
   "id": "preceding-dispatch",
   "metadata": {},
   "outputs": [
    {
     "name": "stdout",
     "output_type": "stream",
     "text": [
      "0\n"
     ]
    }
   ],
   "source": [
    "print(cosine_for_followees(273084,1505602))"
   ]
  },
  {
   "cell_type": "code",
   "execution_count": 9,
   "id": "adaptive-adventure",
   "metadata": {},
   "outputs": [
    {
     "ename": "SyntaxError",
     "evalue": "invalid syntax (<ipython-input-9-61b0c0ccb4f6>, line 7)",
     "output_type": "error",
     "traceback": [
      "\u001b[1;36m  File \u001b[1;32m\"<ipython-input-9-61b0c0ccb4f6>\"\u001b[1;36m, line \u001b[1;32m7\u001b[0m\n\u001b[1;33m    (math.sqrt(len(set(train_graph.predecessors(a)))*len(set(train_graph.predecessors(b))))))\u001b[0m\n\u001b[1;37m                                                                                            ^\u001b[0m\n\u001b[1;31mSyntaxError\u001b[0m\u001b[1;31m:\u001b[0m invalid syntax\n"
     ]
    }
   ],
   "source": [
    "#for followers\n",
    "def cosine_for_followers(a,b):\n",
    "    try:\n",
    "        if len(set(train_graph.successors(a)))==0 | len(set(train_graph.successors(b)))==0:\n",
    "            return 0\n",
    "        sim=(len(set(train_graph.successors(a)).intersection(set(train_graph.predecessors(b)))))/\\\n",
    "                                  (math.sqrt(len(set(train_graph.predecessors(a)))*len(set(train_graph.predecessors(b))))))\n",
    "    except:\n",
    "        return 0;\n",
    "    return sim"
   ]
  },
  {
   "cell_type": "code",
   "execution_count": null,
   "id": "magnetic-geometry",
   "metadata": {},
   "outputs": [],
   "source": [
    "print(cosine_for_followers(2,470294))"
   ]
  },
  {
   "cell_type": "markdown",
   "id": "satellite-trial",
   "metadata": {},
   "source": [
    "# 3.Ranking Measures"
   ]
  },
  {
   "cell_type": "markdown",
   "id": "qualified-grave",
   "metadata": {},
   "source": [
    "https://networkx.org/documentation/networkx-1.10/reference/generated/networkx.algorithms.link_analysis.pagerank_alg.pagerank.html"
   ]
  },
  {
   "cell_type": "markdown",
   "id": "laughing-float",
   "metadata": {},
   "source": [
    "PageRank computes a ranking of the nodes in the graph G based on the structure of the incoming links"
   ]
  },
  {
   "cell_type": "markdown",
   "id": "weird-flour",
   "metadata": {},
   "source": [
    "# 3.1 Page Rank"
   ]
  },
  {
   "cell_type": "markdown",
   "id": "framed-opinion",
   "metadata": {},
   "source": [
    "https://en.wikipedia.org/wiki/PageRank"
   ]
  },
  {
   "cell_type": "code",
   "execution_count": null,
   "id": "funded-effectiveness",
   "metadata": {},
   "outputs": [],
   "source": [
    "if not os.path.isfile('data/fea_sample/page_rank.p'):\n",
    "    pr=nx.pagerank(train_graph,alpha=0.85)\n",
    "    filename=\"data/fea_sample/page_rank.p\"\n",
    "    os.makedirs(os.path.dirname(filename), exist_ok=True)\n",
    "    with open('data/fea_sample/page_rank.p', 'wb') as f:\n",
    "        pickle.dump(pr, f)\n",
    "else:\n",
    "    pr=pickle.load(open('data/fea_sample/page_rank.p','rb'))"
   ]
  },
  {
   "cell_type": "code",
   "execution_count": null,
   "id": "mathematical-links",
   "metadata": {},
   "outputs": [],
   "source": [
    "print('min',pr[min(pr,key=pr.get)])\n",
    "print('max',pr[max(pr,key=pr.get)])\n",
    "print('mean',float(sum(pr.values()))/len(pr))"
   ]
  },
  {
   "cell_type": "code",
   "execution_count": null,
   "id": "french-nursery",
   "metadata": {},
   "outputs": [],
   "source": [
    "#for inputing to nodes which are not there in Train data\n",
    "mean_pr=float(sum(pr.values())/len(pr))\n",
    "print(mean_pr)"
   ]
  },
  {
   "cell_type": "markdown",
   "id": "helpful-platform",
   "metadata": {},
   "source": [
    "# Graph based features"
   ]
  },
  {
   "cell_type": "markdown",
   "id": "ambient-advertising",
   "metadata": {},
   "source": [
    "# 4.1 Shortest Path"
   ]
  },
  {
   "cell_type": "markdown",
   "id": "robust-hawaiian",
   "metadata": {},
   "source": [
    "Getting Shortest path between two nodes,if nodes have an edge i.e trivially connected then we are removing that edge and calculating the shortest path"
   ]
  },
  {
   "cell_type": "code",
   "execution_count": null,
   "id": "mysterious-bracelet",
   "metadata": {},
   "outputs": [],
   "source": [
    "#if has direct edge then deleting that edge and calculating shortest path\n",
    "def compute_shortest_path_length(a,b):\n",
    "    p=-1\n",
    "    try:\n",
    "        if(train_graph.has_edge(a,b)):\n",
    "            train_graph.remove_edge(a,b)\n",
    "            p=nx.shortest_path_length(train_graph,source=a,target=b)\n",
    "            train_graph.add_edge(a,b)\n",
    "        else:\n",
    "            p=nx.shortest_path_length(train_graph,source=a,target=b)\n",
    "        return p\n",
    "    except:\n",
    "         return -1"
   ]
  },
  {
   "cell_type": "code",
   "execution_count": null,
   "id": "charming-philip",
   "metadata": {},
   "outputs": [],
   "source": [
    "#test\n",
    "compute_shortest_path_length(77697,826021)"
   ]
  },
  {
   "cell_type": "markdown",
   "id": "arbitrary-minimum",
   "metadata": {},
   "source": [
    "# 4.2 Checking for same weakly connected component(Community)"
   ]
  },
  {
   "cell_type": "code",
   "execution_count": null,
   "id": "beneficial-yeast",
   "metadata": {},
   "outputs": [],
   "source": [
    "#getting weekly connected edges from graph\n",
    "wcc=list(nx.weakly_connected_components(train_graph))\n",
    "def belongs_to_same_wcc(a,b):\n",
    "    index=[]\n",
    "    if train_graph.has_edge(b,a):\n",
    "        return 1\n",
    "    if train_graph.has_edge(a,b):\n",
    "        for i in wcc:\n",
    "            if a in i:\n",
    "                index=i\n",
    "                break\n",
    "        if( b in index):\n",
    "            train_graph.remove_edge(a,b)\n",
    "            if compute_shortest_path_length(a,b)==-1:\n",
    "                train_graph.add_edge(a,b)\n",
    "                return 0\n",
    "            else:\n",
    "                train_graph.add_edge(a,b)\n",
    "                return 1\n",
    "    else:\n",
    "        for i in wcc:\n",
    "            if a in i:\n",
    "                index=i\n",
    "                break\n",
    "            if (b in index):\n",
    "                return 1\n",
    "            else:\n",
    "                 return 0\n",
    "        "
   ]
  },
  {
   "cell_type": "code",
   "execution_count": null,
   "id": "clinical-oracle",
   "metadata": {},
   "outputs": [],
   "source": [
    "belongs_to_same_wcc(861,1659750)"
   ]
  },
  {
   "cell_type": "code",
   "execution_count": null,
   "id": "little-characterization",
   "metadata": {},
   "outputs": [],
   "source": [
    "belongs_to_same_wcc(669354,1635354)"
   ]
  },
  {
   "cell_type": "markdown",
   "id": "physical-nerve",
   "metadata": {},
   "source": [
    "# Adamic/Adar Index"
   ]
  },
  {
   "cell_type": "markdown",
   "id": "instant-underground",
   "metadata": {},
   "source": [
    "Adamic/Adar measures is defined as inverted sum of degrees of common neighbours for given two vertices\n",
    "\n",
    "https://en.wikipedia.org/wiki/Adamic/Adar_index"
   ]
  },
  {
   "cell_type": "code",
   "execution_count": null,
   "id": "dependent-forum",
   "metadata": {},
   "outputs": [],
   "source": [
    "#adar index\n",
    "def calc_adar_in(a,b):\n",
    "    sum=0\n",
    "    try:\n",
    "        n=list(set(train_graph.successors(a)).intersection(set(train_graph.successors(b))))\n",
    "        if len(n)!=0:\n",
    "            for i in n:\n",
    "                sum=sum+(1/np.log10(len(list(train_graph.predecessors(i)))))\n",
    "            return sum\n",
    "        else:\n",
    "            return 0\n",
    "    except:\n",
    "        return 0"
   ]
  },
  {
   "cell_type": "code",
   "execution_count": null,
   "id": "constant-marble",
   "metadata": {},
   "outputs": [],
   "source": [
    "calc_adar_in(1,189226)"
   ]
  },
  {
   "cell_type": "markdown",
   "id": "nearby-raising",
   "metadata": {},
   "source": [
    "# follow back feature\n"
   ]
  },
  {
   "cell_type": "code",
   "execution_count": null,
   "id": "bored-paper",
   "metadata": {},
   "outputs": [],
   "source": [
    "def follows_back(a,b):\n",
    "    if train_graph.has_edge(b,a):\n",
    "        return 1\n",
    "    else:\n",
    "        return 0\n"
   ]
  },
  {
   "cell_type": "code",
   "execution_count": null,
   "id": "positive-apparatus",
   "metadata": {},
   "outputs": [],
   "source": [
    "follows_back(1,189226)"
   ]
  },
  {
   "cell_type": "code",
   "execution_count": null,
   "id": "still-trainer",
   "metadata": {},
   "outputs": [],
   "source": [
    "follows_back(6693,1635354)"
   ]
  },
  {
   "cell_type": "markdown",
   "id": "subject-collapse",
   "metadata": {},
   "source": [
    "# Katz Centrality"
   ]
  },
  {
   "cell_type": "markdown",
   "id": "underlying-dublin",
   "metadata": {},
   "source": [
    "https://www.geeksforgeeks.org/katz-centrality-centrality-measure/"
   ]
  },
  {
   "cell_type": "code",
   "execution_count": null,
   "id": "forced-handbook",
   "metadata": {},
   "outputs": [],
   "source": [
    "if not os.path.isfile('data/fea_sample/katz.p'):\n",
    "    katz=nx.katz.katz_centrality(train_graph,alpha=0.005,beta=1)\n",
    "    pickle.dump(katz,open('data/fea_sample/katz.p','wb'))\n",
    "else:\n",
    "    katz=pickle.load(open('data/fea_sample/katz.p','rb'))"
   ]
  },
  {
   "cell_type": "code",
   "execution_count": null,
   "id": "usual-insertion",
   "metadata": {},
   "outputs": [],
   "source": [
    "print('min',katz[min(katz,key=katz.get)])\n",
    "print('max',katz[max(katz,key=katz.get)])\n",
    "print('mean',float(sum(katz.values()))/len(katz))"
   ]
  }
 ],
 "metadata": {
  "kernelspec": {
   "display_name": "Python 3",
   "language": "python",
   "name": "python3"
  },
  "language_info": {
   "codemirror_mode": {
    "name": "ipython",
    "version": 3
   },
   "file_extension": ".py",
   "mimetype": "text/x-python",
   "name": "python",
   "nbconvert_exporter": "python",
   "pygments_lexer": "ipython3",
   "version": "3.7.3"
  }
 },
 "nbformat": 4,
 "nbformat_minor": 5
}
